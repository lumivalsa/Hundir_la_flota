{
 "cells": [
  {
   "cell_type": "code",
   "execution_count": null,
   "id": "0cdb5a03",
   "metadata": {},
   "outputs": [],
   "source": [
    "1 Crucero size 4 \n",
    "2 Fragata 3\n",
    "3 Destructor 2\n",
    "4 Acorazado 1\n"
   ]
  },
  {
   "cell_type": "code",
   "execution_count": 1,
   "id": "69acc54c",
   "metadata": {},
   "outputs": [],
   "source": [
    "def prueba():\n",
    "    print(\"test\")"
   ]
  },
  {
   "cell_type": "code",
   "execution_count": 2,
   "id": "0c8227dc",
   "metadata": {},
   "outputs": [
    {
     "name": "stdout",
     "output_type": "stream",
     "text": [
      "test\n"
     ]
    }
   ],
   "source": [
    "prueba()"
   ]
  },
  {
   "cell_type": "code",
   "execution_count": 1,
   "id": "7290229f",
   "metadata": {},
   "outputs": [
    {
     "name": "stdout",
     "output_type": "stream",
     "text": [
      "periquito\n",
      "\u001b[H\u001b[2JZZZZ\n"
     ]
    }
   ],
   "source": [
    "import winner\n",
    "from winner import limpia\n",
    "\n",
    "print(\"periquito\")\n",
    "winner.limpia()\n",
    "print(\"ZZZZ\")"
   ]
  },
  {
   "cell_type": "code",
   "execution_count": null,
   "id": "287ac8eb",
   "metadata": {},
   "outputs": [],
   "source": []
  }
 ],
 "metadata": {
  "kernelspec": {
   "display_name": "Python 3 (ipykernel)",
   "language": "python",
   "name": "python3"
  },
  "language_info": {
   "codemirror_mode": {
    "name": "ipython",
    "version": 3
   },
   "file_extension": ".py",
   "mimetype": "text/x-python",
   "name": "python",
   "nbconvert_exporter": "python",
   "pygments_lexer": "ipython3",
   "version": "3.7.4"
  }
 },
 "nbformat": 4,
 "nbformat_minor": 5
}

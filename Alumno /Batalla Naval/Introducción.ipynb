{
 "cells": [
  {
   "cell_type": "markdown",
   "id": "1b38dcb1",
   "metadata": {},
   "source": [
    "![imagen](img/combate_naval.png)"
   ]
  },
  {
   "cell_type": "markdown",
   "id": "e6b6b10f",
   "metadata": {},
   "source": [
    "<h1>BATALLA NAVAL</h1>"
   ]
  },
  {
   "cell_type": "markdown",
   "id": "248d243b",
   "metadata": {},
   "source": [
    "Indicaciones:\n",
    "Los jugadores manejan un tablero de océano y un tablero de tiro; cada uno divididos en casillas.1​ Cada tablero representa una zona diferente del mar abierto: la propia y la contraria. En el primer tablero, el jugador coloca sus barcos y registra los «tiros» del oponente; en el otro, se registran los tiros propios contra el otro jugador, diferenciando los impactos y los que dan al agua. Al tiempo, se deduce la posición de los barcos del contrincante."
   ]
  },
  {
   "cell_type": "markdown",
   "id": "3b136a15",
   "metadata": {},
   "source": [
    "Barcos:\n",
    "Contamos con 10 Barcos que serán colocados de forma aleatoria:\n",
    "\n",
    "* 1 Crucero size 4 \n",
    "* 2 Fragata 3\n",
    "* 3 Destructor 2\n",
    "* 4 Acorazado 1\n"
   ]
  },
  {
   "cell_type": "markdown",
   "id": "dcf93a83",
   "metadata": {},
   "source": []
  }
 ],
 "metadata": {
  "kernelspec": {
   "display_name": "Python 3 (ipykernel)",
   "language": "python",
   "name": "python3"
  },
  "language_info": {
   "codemirror_mode": {
    "name": "ipython",
    "version": 3
   },
   "file_extension": ".py",
   "mimetype": "text/x-python",
   "name": "python",
   "nbconvert_exporter": "python",
   "pygments_lexer": "ipython3",
   "version": "3.7.4"
  }
 },
 "nbformat": 4,
 "nbformat_minor": 5
}
